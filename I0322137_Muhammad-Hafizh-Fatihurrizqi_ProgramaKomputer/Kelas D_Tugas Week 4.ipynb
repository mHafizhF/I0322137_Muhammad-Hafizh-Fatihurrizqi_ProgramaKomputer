{
 "cells": [
  {
   "cell_type": "code",
   "execution_count": 1,
   "metadata": {},
   "outputs": [
    {
     "name": "stdout",
     "output_type": "stream",
     "text": [
      "Muhammad Hafizh Fatihurrizqi\n",
      "I0322137\n",
      "D\n"
     ]
    }
   ],
   "source": [
    "print(input(\"Nama: \"))\n",
    "print(input(\"NIM: \"))\n",
    "print(input(\"Kelas: \"))"
   ]
  },
  {
   "attachments": {},
   "cell_type": "markdown",
   "metadata": {},
   "source": [
    "## 1."
   ]
  },
  {
   "attachments": {},
   "cell_type": "markdown",
   "metadata": {},
   "source": [
    "Buatlah program yang menampilkan salam “Selamat Pagi” dari berbagai negara {Inggris, Perancis, Italia, Spanyol, Jepang, Korea} dengan dua input dari user yaitu bahasa dan diikuti nama user.<br>\n",
    "<br>Ex : \n",
    "<br>\"Ohayou, Onii Chan\"\n",
    "> *note: Kerjakan soal ini dengan percabangan*"
   ]
  },
  {
   "cell_type": "code",
   "execution_count": 5,
   "metadata": {},
   "outputs": [
    {
     "name": "stdout",
     "output_type": "stream",
     "text": [
      "Ohayōu hapis\n"
     ]
    }
   ],
   "source": [
    "# Kerjakan soal nomor 1 disini\n",
    "lang = input('Pilih bahasa negara untuk ucapan selamat pagi : ')\n",
    "name = input('Masukkan nama kalian : ')\n",
    "country = ['prancis', 'inggris','spanyol' , 'italia', 'jepang', 'korea']\n",
    "greet = ['bonjour', 'good morning','Buen día' , 'Buongiorno', 'Ohayōu', 'Joheun achimieyo']\n",
    "\n",
    "if lang == country[0]:\n",
    "    print(greet[0], name)\n",
    "elif lang == country[1]:\n",
    "    print(greet[1], name)\n",
    "elif lang == country[2]:\n",
    "    print(greet[2], name)\n",
    "elif lang == country[3]:\n",
    "    print(greet[3], name)\n",
    "elif lang == country[4]:\n",
    "    print(greet[4], name)\n",
    "elif lang == country[5]:\n",
    "    print(greet[5], name)\n",
    "else :\n",
    "    print('negara tidak terdapat dalam list')"
   ]
  },
  {
   "attachments": {},
   "cell_type": "markdown",
   "metadata": {},
   "source": [
    "## 2."
   ]
  },
  {
   "attachments": {},
   "cell_type": "markdown",
   "metadata": {},
   "source": [
    "Buatlah program perhitungan umur dengan menggunakan input user yaitu tahun lahir dari user.<br>\n",
    "<br>Output yang dihasilkan adalah sebagai berikut:\n",
    "<br>\"Apakah anda berasal dari masa depan?\"\n",
    "<br>\"Anda barusaja lahir\"\n",
    "<br>\"Umur Anda adalah xx tahun\"\n",
    "> *note: Kerjakan soal ini dengan percabangan*"
   ]
  },
  {
   "cell_type": "code",
   "execution_count": 6,
   "metadata": {},
   "outputs": [
    {
     "name": "stdout",
     "output_type": "stream",
     "text": [
      "Apakah anda berasal dari masa depan?\n"
     ]
    }
   ],
   "source": [
    "# Kerjakan soal nomor 2 disini\n",
    "a = int(input('Masukkan tahun kelahir anda : '))\n",
    "b = 2023 #tahun ini\n",
    "c = b-a\n",
    "\n",
    "if a > b:\n",
    "    print('Apakah anda berasal dari masa depan?')\n",
    "elif a == b:\n",
    "    print('Anda baru saja lahir')\n",
    "else :\n",
    "    print(f'Umur anda adalah {c} tahun')"
   ]
  }
 ],
 "metadata": {
  "kernelspec": {
   "display_name": "Python 3",
   "language": "python",
   "name": "python3"
  },
  "language_info": {
   "codemirror_mode": {
    "name": "ipython",
    "version": 3
   },
   "file_extension": ".py",
   "mimetype": "text/x-python",
   "name": "python",
   "nbconvert_exporter": "python",
   "pygments_lexer": "ipython3",
   "version": "3.11.2"
  },
  "orig_nbformat": 4
 },
 "nbformat": 4,
 "nbformat_minor": 2
}
