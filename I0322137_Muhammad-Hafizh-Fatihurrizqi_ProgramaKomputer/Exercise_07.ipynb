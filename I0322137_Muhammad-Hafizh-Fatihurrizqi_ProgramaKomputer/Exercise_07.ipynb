{
 "cells": [
  {
   "cell_type": "code",
   "execution_count": 5,
   "metadata": {},
   "outputs": [
    {
     "name": "stdout",
     "output_type": "stream",
     "text": [
      "Matriks =\n"
     ]
    },
    {
     "data": {
      "text/plain": [
       "[[9, 8, 7], [6, 5, 4], [3, 2, 1]]"
      ]
     },
     "execution_count": 5,
     "metadata": {},
     "output_type": "execute_result"
    }
   ],
   "source": [
    "#Buatlah sebuah fungsi untuk membuat matrix berdasarkan input dari user\n",
    "\n",
    "def create_matrix(baris,kolom):\n",
    "    matrix = []\n",
    "\n",
    "    #Tulis kode kamu disini\n",
    "    print(\"Matriks =\")\n",
    "    for i in range (baris):\n",
    "        area = []\n",
    "        for j in range (kolom):\n",
    "            isi = (int(input (f\"[{i}][{j}]\")))\n",
    "            area.append(isi)\n",
    "        matrix.append(area)\n",
    "\n",
    "    return matrix\n",
    "\n",
    "baris = int(input('Masukkan Jumlah Baris:\\t'))\n",
    "kolom = int(input('Masukkan Jumlah Kolom:\\t'))\n",
    "\n",
    "create_matrix(baris,kolom)"
   ]
  },
  {
   "cell_type": "code",
   "execution_count": 12,
   "metadata": {},
   "outputs": [
    {
     "name": "stdout",
     "output_type": "stream",
     "text": [
      "Invers Matriks =\n"
     ]
    },
    {
     "data": {
      "text/plain": [
       "[[9, 8, 7], [6, 5, 4], [3, 2, 1]]"
      ]
     },
     "execution_count": 12,
     "metadata": {},
     "output_type": "execute_result"
    }
   ],
   "source": [
    "#Buatlah sebuah fungsi untuk mencari invers matrix berdasarkan input matrix dari user\n",
    "\n",
    "\n",
    "def invers():\n",
    "    det = []\n",
    "\n",
    "    #Tulis kode kamu disini\n",
    "    print(\"Invers Matriks =\")\n",
    "    uk = int(input('Ukuran matriks : '))\n",
    "\n",
    "    for x in range(uk):\n",
    "        area = []\n",
    "        for y in range(uk):\n",
    "            isi = int(input(f\"[{x}][{y}]\"))\n",
    "            area.append(isi)\n",
    "        det.append(area)\n",
    "    \n",
    "    def determinan(det):\n",
    "        z = len(det)\n",
    "        if z == 1:\n",
    "            return det[0][0]\n",
    "        elif z == 2:\n",
    "            return det[0][0] * det[1][1] - det[0][1] * det[1][0]\n",
    "        else:\n",
    "            deter = 0\n",
    "            for i in range(z):\n",
    "                sub = [area[:i] + area[i+1:] for area in det[1:]]\n",
    "                deter += ((-1)**i) * det[0][i] * determinan(sub)\n",
    "            return deter\n",
    "    \n",
    "    deter = determinan(det)\n",
    "    baris = int(input('Masukkan Jumlah Baris:\\t'))\n",
    "    kolom = int(input('Masukkan Jumlah Kolom:\\t'))\n",
    "\n",
    "    return det\n",
    "invers()"
   ]
  },
  {
   "cell_type": "code",
   "execution_count": 20,
   "metadata": {},
   "outputs": [
    {
     "name": "stdout",
     "output_type": "stream",
     "text": [
      "hasil = [[1.125, 1.0, 0.875], [0.75, 0.625, 0.5], [0.375, 0.25, 0.125]]\n"
     ]
    }
   ],
   "source": [
    "#Buatlah Fungsi untuk melakukan pembagian matrix antar matrix berdasarkan input user menggunakan nested loop\n",
    "\n",
    "def bagi_matrix(matrix1, skalar):\n",
    "    hasil = []\n",
    "\n",
    "    #Tulis kode kamu disini\n",
    "    return hasil\n",
    "\n",
    "def bagi_matrix(matrix1, skalar):\n",
    "    hasil = []\n",
    "    for a in range(len(matrix1)):\n",
    "        row = []\n",
    "        for b in range(len(matrix1[0])):\n",
    "            element = matrix1[a][b] / skalar\n",
    "            row.append(element)\n",
    "        hasil.append(row)\n",
    "    return hasil\n",
    "\n",
    "matrix1 = [[9,8,7], [6,5,4], [3,2,1]]\n",
    "skalar = int(input('Matrix dibagi berapa?: '))\n",
    "\n",
    "hasil_pembagian = bagi_matrix(matrix1, skalar)\n",
    "print(\"hasil =\",hasil_pembagian)"
   ]
  }
 ],
 "metadata": {
  "kernelspec": {
   "display_name": "Python 3",
   "language": "python",
   "name": "python3"
  },
  "language_info": {
   "codemirror_mode": {
    "name": "ipython",
    "version": 3
   },
   "file_extension": ".py",
   "mimetype": "text/x-python",
   "name": "python",
   "nbconvert_exporter": "python",
   "pygments_lexer": "ipython3",
   "version": "3.11.2"
  },
  "orig_nbformat": 4
 },
 "nbformat": 4,
 "nbformat_minor": 2
}
